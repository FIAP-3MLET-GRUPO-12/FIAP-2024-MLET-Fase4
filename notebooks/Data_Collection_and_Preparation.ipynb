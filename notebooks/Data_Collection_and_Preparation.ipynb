{
  "cells": [
    {
      "cell_type": "raw",
      "metadata": {
        "vscode": {
          "languageId": "raw"
        }
      },
      "source": [
        "# Tesla Stock Price Prediction - Day 1: Data Collection and Preparation\n",
        "\n",
        "This notebook documents the first day of our LSTM-based stock price prediction project, focusing on Tesla (TSLA) stock data. We'll cover:\n",
        "\n",
        "1. Setting up the environment\n",
        "2. Collecting Tesla stock data using yfinance\n",
        "3. Initial data analysis and visualization\n",
        "4. Data normalization\n",
        "5. Train/validation/test split\n",
        "6. Data sequence preparation for LSTM\n"
      ]
    },
    {
      "cell_type": "code",
      "execution_count": null,
      "metadata": {},
      "outputs": [],
      "source": [
        "# Import required libraries\n",
        "import numpy as np\n",
        "import pandas as pd\n",
        "import yfinance as yf\n",
        "import matplotlib.pyplot as plt\n",
        "import seaborn as sns\n",
        "from sklearn.preprocessing import MinMaxScaler\n",
        "from datetime import datetime, timedelta\n",
        "\n",
        "# Set random seed for reproducibility\n",
        "np.random.seed(42)\n",
        "\n",
        "# Configure plot style\n",
        "plt.style.use('seaborn')\n",
        "sns.set_theme(style=\"whitegrid\")\n"
      ]
    },
    {
      "cell_type": "code",
      "execution_count": null,
      "metadata": {},
      "outputs": [],
      "source": [
        "# Download Tesla stock data\n",
        "ticker = \"TSLA\"\n",
        "start_date = \"2019-01-01\"\n",
        "end_date = datetime.now().strftime(\"%Y-%m-%d\")\n",
        "\n",
        "# Get data from Yahoo Finance\n",
        "tesla_data = yf.download(ticker, start=start_date, end=end_date)\n",
        "\n",
        "# Display the first few rows and basic information\n",
        "print(\"Dataset Shape:\", tesla_data.shape)\n",
        "print(\"\\nFirst few rows of the dataset:\")\n",
        "tesla_data.head()\n"
      ]
    },
    {
      "cell_type": "code",
      "execution_count": null,
      "metadata": {},
      "outputs": [],
      "source": [
        "# Visualize Tesla stock price history\n",
        "plt.figure(figsize=(15, 7))\n",
        "plt.plot(tesla_data.index, tesla_data['Close'], label='Close Price')\n",
        "plt.title('Tesla Stock Price History')\n",
        "plt.xlabel('Date')\n",
        "plt.ylabel('Price (USD)')\n",
        "plt.legend()\n",
        "plt.grid(True)\n",
        "plt.show()\n",
        "\n",
        "# Calculate daily returns\n",
        "tesla_data['Returns'] = tesla_data['Close'].pct_change()\n",
        "\n",
        "# Plot daily returns distribution\n",
        "plt.figure(figsize=(15, 7))\n",
        "plt.subplot(1, 2, 1)\n",
        "tesla_data['Returns'].hist(bins=50)\n",
        "plt.title('Distribution of Daily Returns')\n",
        "plt.xlabel('Returns')\n",
        "plt.ylabel('Frequency')\n",
        "\n",
        "plt.subplot(1, 2, 2)\n",
        "sns.boxplot(y=tesla_data['Returns'])\n",
        "plt.title('Box Plot of Daily Returns')\n",
        "plt.ylabel('Returns')\n",
        "plt.show()\n"
      ]
    },
    {
      "cell_type": "code",
      "execution_count": null,
      "metadata": {},
      "outputs": [],
      "source": [
        "# Select features for the model\n",
        "features = ['Open', 'High', 'Low', 'Close', 'Volume']\n",
        "data = tesla_data[features].values\n",
        "\n",
        "# Normalize the data\n",
        "scaler = MinMaxScaler(feature_range=(0, 1))\n",
        "scaled_data = scaler.fit_transform(data)\n",
        "\n",
        "# Create sequences for LSTM\n",
        "def create_sequences(data, seq_length):\n",
        "    X = []\n",
        "    y = []\n",
        "    for i in range(len(data) - seq_length):\n",
        "        X.append(data[i:(i + seq_length)])\n",
        "        y.append(data[i + seq_length, 3])  # 3 is the index for Close price\n",
        "    return np.array(X), np.array(y)\n",
        "\n",
        "# Parameters\n",
        "sequence_length = 60  # Number of time steps to look back\n",
        "\n",
        "# Create sequences\n",
        "X, y = create_sequences(scaled_data, sequence_length)\n",
        "\n",
        "# Split the data into train, validation, and test sets\n",
        "train_size = int(len(X) * 0.7)\n",
        "val_size = int(len(X) * 0.15)\n",
        "\n",
        "X_train = X[:train_size]\n",
        "y_train = y[:train_size]\n",
        "\n",
        "X_val = X[train_size:train_size+val_size]\n",
        "y_val = y[train_size:train_size+val_size]\n",
        "\n",
        "X_test = X[train_size+val_size:]\n",
        "y_test = y[train_size+val_size:]\n",
        "\n",
        "print(\"Training set shape:\", X_train.shape, y_train.shape)\n",
        "print(\"Validation set shape:\", X_val.shape, y_val.shape)\n",
        "print(\"Test set shape:\", X_test.shape, y_test.shape)\n"
      ]
    }
  ],
  "metadata": {
    "language_info": {
      "name": "python"
    }
  },
  "nbformat": 4,
  "nbformat_minor": 2
}
